{
 "cells": [
  {
   "cell_type": "code",
   "execution_count": null,
   "metadata": {},
   "outputs": [],
   "source": [
    "from flask import Flask, Response\n",
    "\n",
    "# Criando uma instancia do Flask\n",
    "app = Flask(__name__)\n",
    "\n",
    "# Criando uma rota para a página inicial\n",
    "@app.route('/')\n",
    "# O que a API vai responder\n",
    "def hello_world():\n",
    "    return \"Hello, World!\"\n",
    "\n",
    "# Quando desenvolvemos uma API, é importante que ela esteja em modo de Debug para que possamos ver os erros\n",
    "app.config['DEBUG'] = True\n",
    "app.run()"
   ]
  },
  {
   "cell_type": "markdown",
   "metadata": {},
   "source": [
    "Rodar o script SQL"
   ]
  }
 ],
 "metadata": {
  "kernelspec": {
   "display_name": ".venv",
   "language": "python",
   "name": "python3"
  },
  "language_info": {
   "name": "python",
   "version": "3.10.10"
  }
 },
 "nbformat": 4,
 "nbformat_minor": 2
}
